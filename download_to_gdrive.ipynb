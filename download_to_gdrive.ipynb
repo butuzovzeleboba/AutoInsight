{
 "cells": [
  {
   "cell_type": "code",
   "execution_count": null,
   "id": "f2bf589c-a8d5-43fc-b66f-5b420b927ee4",
   "metadata": {},
   "outputs": [],
   "source": [
    "import pandas as pd\n",
    "import numpy as np\n",
    "from datetime import datetime\n",
    "import os\n",
    "import re\n",
    "import gspread\n",
    "from oauth2client.service_account import ServiceAccountCredentials\n",
    "from df2gspread import df2gspread as d2g\n",
    "from google.oauth2 import service_account\n",
    "from pydrive.auth import GoogleAuth\n",
    "from pydrive.drive import GoogleDrive"
   ]
  },
  {
   "cell_type": "code",
   "execution_count": null,
   "id": "8ea83a49-89b1-463e-b1de-0fe09777fe9e",
   "metadata": {},
   "outputs": [],
   "source": [
    "df_cars_clear = pd.read_csv('cars_data_clear.csv')\n",
    "\n",
    "# Путь к JSON-файлу с ключом (он у каждого свой)\n",
    "path_to_credentials = 'autoinsights-31fc1c0b2945.json'\n",
    "\n",
    "# Настройка Google Drive API с использованием ServiceAccountCredentials\n",
    "scope = ['https://www.googleapis.com/auth/drive']\n",
    "gauth = GoogleAuth()\n",
    "gauth.credentials = ServiceAccountCredentials.from_json_keyfile_name(path_to_credentials, scope)\n",
    "drive = GoogleDrive(gauth)\n",
    "\n",
    "\n",
    "# Идентификатор файла CSV на Google Диске (находится в URL)\n",
    "table_id  = '1NtrD5PqsaHHN1AY1-7SOiQkRx9c5jSwQGBTBS1KNViI'\n",
    "\n",
    "# Файл который нужно перезаписать со своей директории\n",
    "temp_csv = 'cars_data_clear.csv'\n",
    "\n",
    "# Перезапись его содержимое\n",
    "file = drive.CreateFile({'id': table_id})\n",
    "file.SetContentFile(temp_csv)  # путь к  файлу\n",
    "file.Upload()\n",
    "print(\"CSV файл успешно перезаписан на Google Диске.\")"
   ]
  }
 ],
 "metadata": {
  "kernelspec": {
   "display_name": "Python 3 (ipykernel)",
   "language": "python",
   "name": "python3"
  },
  "language_info": {
   "codemirror_mode": {
    "name": "ipython",
    "version": 3
   },
   "file_extension": ".py",
   "mimetype": "text/x-python",
   "name": "python",
   "nbconvert_exporter": "python",
   "pygments_lexer": "ipython3",
   "version": "3.12.6"
  }
 },
 "nbformat": 4,
 "nbformat_minor": 5
}
