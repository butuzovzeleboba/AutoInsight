{
 "cells": [
  {
   "cell_type": "code",
   "execution_count": null,
   "metadata": {},
   "outputs": [
    {
     "name": "stderr",
     "output_type": "stream",
     "text": [
      "d:\\pet\\pet-avito\\AutoInsight\\venv\\Lib\\site-packages\\tqdm\\auto.py:21: TqdmWarning: IProgress not found. Please update jupyter and ipywidgets. See https://ipywidgets.readthedocs.io/en/stable/user_install.html\n",
      "  from .autonotebook import tqdm as notebook_tqdm\n"
     ]
    }
   ],
   "source": [
    "import numpy as np\n",
    "import pandas as pd\n",
    "\n",
    "from catboost import CatBoostRegressor\n",
    "\n",
    "from sklearn.model_selection import train_test_split\n",
    "from sklearn.metrics import r2_score, mean_absolute_error, mean_absolute_percentage_error, root_mean_squared_error"
   ]
  },
  {
   "cell_type": "code",
   "execution_count": 2,
   "metadata": {},
   "outputs": [],
   "source": [
    "df_ml = pd.read_csv('../data/ml_data.csv')"
   ]
  },
  {
   "cell_type": "code",
   "execution_count": 4,
   "metadata": {},
   "outputs": [],
   "source": [
    "df_ml['random_feature'] = np.random.standard_normal(len(df_ml))"
   ]
  },
  {
   "cell_type": "code",
   "execution_count": 5,
   "metadata": {},
   "outputs": [
    {
     "data": {
      "text/html": [
       "<div>\n",
       "<style scoped>\n",
       "    .dataframe tbody tr th:only-of-type {\n",
       "        vertical-align: middle;\n",
       "    }\n",
       "\n",
       "    .dataframe tbody tr th {\n",
       "        vertical-align: top;\n",
       "    }\n",
       "\n",
       "    .dataframe thead th {\n",
       "        text-align: right;\n",
       "    }\n",
       "</style>\n",
       "<table border=\"1\" class=\"dataframe\">\n",
       "  <thead>\n",
       "    <tr style=\"text-align: right;\">\n",
       "      <th></th>\n",
       "      <th>price</th>\n",
       "      <th>is_dealer</th>\n",
       "      <th>year</th>\n",
       "      <th>engine</th>\n",
       "      <th>mileage</th>\n",
       "      <th>power_horse</th>\n",
       "      <th>random_feature</th>\n",
       "    </tr>\n",
       "  </thead>\n",
       "  <tbody>\n",
       "    <tr>\n",
       "      <th>price</th>\n",
       "      <td>1.000000</td>\n",
       "      <td>0.061369</td>\n",
       "      <td>0.552972</td>\n",
       "      <td>0.433304</td>\n",
       "      <td>-0.301735</td>\n",
       "      <td>0.638362</td>\n",
       "      <td>-0.003763</td>\n",
       "    </tr>\n",
       "    <tr>\n",
       "      <th>is_dealer</th>\n",
       "      <td>0.061369</td>\n",
       "      <td>1.000000</td>\n",
       "      <td>0.073512</td>\n",
       "      <td>0.038897</td>\n",
       "      <td>-0.046068</td>\n",
       "      <td>0.070572</td>\n",
       "      <td>0.002108</td>\n",
       "    </tr>\n",
       "    <tr>\n",
       "      <th>year</th>\n",
       "      <td>0.552972</td>\n",
       "      <td>0.073512</td>\n",
       "      <td>1.000000</td>\n",
       "      <td>-0.031034</td>\n",
       "      <td>-0.448020</td>\n",
       "      <td>0.165290</td>\n",
       "      <td>-0.005974</td>\n",
       "    </tr>\n",
       "    <tr>\n",
       "      <th>engine</th>\n",
       "      <td>0.433304</td>\n",
       "      <td>0.038897</td>\n",
       "      <td>-0.031034</td>\n",
       "      <td>1.000000</td>\n",
       "      <td>0.128778</td>\n",
       "      <td>0.826992</td>\n",
       "      <td>0.004544</td>\n",
       "    </tr>\n",
       "    <tr>\n",
       "      <th>mileage</th>\n",
       "      <td>-0.301735</td>\n",
       "      <td>-0.046068</td>\n",
       "      <td>-0.448020</td>\n",
       "      <td>0.128778</td>\n",
       "      <td>1.000000</td>\n",
       "      <td>0.031077</td>\n",
       "      <td>-0.001602</td>\n",
       "    </tr>\n",
       "    <tr>\n",
       "      <th>power_horse</th>\n",
       "      <td>0.638362</td>\n",
       "      <td>0.070572</td>\n",
       "      <td>0.165290</td>\n",
       "      <td>0.826992</td>\n",
       "      <td>0.031077</td>\n",
       "      <td>1.000000</td>\n",
       "      <td>-0.000574</td>\n",
       "    </tr>\n",
       "    <tr>\n",
       "      <th>random_feature</th>\n",
       "      <td>-0.003763</td>\n",
       "      <td>0.002108</td>\n",
       "      <td>-0.005974</td>\n",
       "      <td>0.004544</td>\n",
       "      <td>-0.001602</td>\n",
       "      <td>-0.000574</td>\n",
       "      <td>1.000000</td>\n",
       "    </tr>\n",
       "  </tbody>\n",
       "</table>\n",
       "</div>"
      ],
      "text/plain": [
       "                   price  is_dealer      year    engine   mileage  \\\n",
       "price           1.000000   0.061369  0.552972  0.433304 -0.301735   \n",
       "is_dealer       0.061369   1.000000  0.073512  0.038897 -0.046068   \n",
       "year            0.552972   0.073512  1.000000 -0.031034 -0.448020   \n",
       "engine          0.433304   0.038897 -0.031034  1.000000  0.128778   \n",
       "mileage        -0.301735  -0.046068 -0.448020  0.128778  1.000000   \n",
       "power_horse     0.638362   0.070572  0.165290  0.826992  0.031077   \n",
       "random_feature -0.003763   0.002108 -0.005974  0.004544 -0.001602   \n",
       "\n",
       "                power_horse  random_feature  \n",
       "price              0.638362       -0.003763  \n",
       "is_dealer          0.070572        0.002108  \n",
       "year               0.165290       -0.005974  \n",
       "engine             0.826992        0.004544  \n",
       "mileage            0.031077       -0.001602  \n",
       "power_horse        1.000000       -0.000574  \n",
       "random_feature    -0.000574        1.000000  "
      ]
     },
     "execution_count": 5,
     "metadata": {},
     "output_type": "execute_result"
    }
   ],
   "source": [
    "df_ml.corr(numeric_only=True)"
   ]
  },
  {
   "cell_type": "code",
   "execution_count": 6,
   "metadata": {},
   "outputs": [],
   "source": [
    "def eval_metrics(y_test, y_pred):\n",
    "    rmse = root_mean_squared_error(y_test, y_pred)\n",
    "    mae = mean_absolute_error(y_test, y_pred)\n",
    "    r2 = r2_score(y_test, y_pred)\n",
    "    mape = mean_absolute_percentage_error(y_test, y_pred)\n",
    "    return rmse, mae, mape, r2"
   ]
  },
  {
   "cell_type": "code",
   "execution_count": 8,
   "metadata": {},
   "outputs": [],
   "source": [
    "def catboost_learn_predict(params, X_train, X_test, y_train, y_test, features:list):\n",
    "    X_train = X_train[features]\n",
    "    X_test = X_test[features]\n",
    "\n",
    "    model = CatBoostRegressor(iterations=params['iterations'],\n",
    "                           learning_rate=params['learning_rate'],\n",
    "                           depth=params['depth'],\n",
    "                           verbose=params['verbose'], \n",
    "                           random_state=params['random_state'])\n",
    "\n",
    "    model.fit(X_train, y_train)\n",
    "\n",
    "    y_pred = model.predict(X_test)\n",
    "    _, _, mape, _ = eval_metrics(y_test, y_pred)\n",
    "    \n",
    "    return mape"
   ]
  },
  {
   "cell_type": "code",
   "execution_count": 9,
   "metadata": {},
   "outputs": [
    {
     "data": {
      "text/plain": [
       "(30276, 55)"
      ]
     },
     "execution_count": 9,
     "metadata": {},
     "output_type": "execute_result"
    }
   ],
   "source": [
    "X = df_ml.drop(['price', 'ad_description'], axis=1)\n",
    "X_numeric = pd.get_dummies(X, columns=[\n",
    "        'is_dealer', 'transmission', 'car_body',\n",
    "        'wheel_drive','fuel_type', 'brand', \n",
    "        'region',\n",
    "        ])\n",
    "y = df_ml['price']\n",
    "X_train, X_test, y_train, y_test = train_test_split(X_numeric, y, test_size=0.25)\n",
    "X_train.shape"
   ]
  },
  {
   "cell_type": "code",
   "execution_count": 27,
   "metadata": {},
   "outputs": [],
   "source": [
    "params = {\n",
    "    'iterations': 200,\n",
    "    'learning_rate':0.1,\n",
    "    'depth':6,\n",
    "    'cat_features':[\n",
    "        'is_dealer', 'transmission', 'car_body',\n",
    "        'wheel_drive','fuel_type', 'brand', \n",
    "        'region'\n",
    "        ],\n",
    "    'verbose':False,\n",
    "    'random_state':42\n",
    "}"
   ]
  },
  {
   "cell_type": "code",
   "execution_count": null,
   "metadata": {},
   "outputs": [],
   "source": [
    "features_left = [*X_train.columns]\n",
    "features_in_model = []\n",
    "min_metric_prev = 100\n",
    "\n",
    "while True:\n",
    "\n",
    "    metric_check = dict()\n",
    "    \n",
    "\n",
    "    print(f'Checking {\", \".join(features_in_model)}.')\n",
    "    for feature in features_left:\n",
    "        features_in_model.append(feature)\n",
    "        mape = catboost_learn_predict(params, X_train, X_test, y_train, y_test, features_in_model)\n",
    "        if feature == 'random_feature':\n",
    "            random_feature_metric = mape\n",
    "        metric_check[mape] = feature\n",
    "        features_in_model.remove(feature)\n",
    "\n",
    "    min_metric = min(metric_check.keys())\n",
    "    min_feature = metric_check[min_metric]\n",
    "\n",
    "    if min_metric >= random_feature_metric or min_metric_prev - min_metric  <= 0.001:\n",
    "        print('Feature selection finished.')\n",
    "        print(f'Selected {min_feature} metric: {min_metric}.')\n",
    "        print(f'Previous metric value = {min_metric_prev}')\n",
    "        print(f'Random feature metric value = {random_feature_metric}')\n",
    "        print(f'Final result: {\", \".join(features_in_model)}.')\n",
    "        break\n",
    "\n",
    "    min_metric_prev = min_metric\n",
    "\n",
    "    features_in_model.append(min_feature)\n",
    "    print('Selected', min_feature, 'metric:', min_metric, '.')\n",
    "    features_left.remove(min_feature)\n",
    "\n",
    "        "
   ]
  },
  {
   "cell_type": "code",
   "execution_count": 138,
   "metadata": {},
   "outputs": [
    {
     "data": {
      "text/plain": [
       "29"
      ]
     },
     "execution_count": 138,
     "metadata": {},
     "output_type": "execute_result"
    }
   ],
   "source": [
    "len(['power_horse', 'year', 'engine', 'brand_Япония', 'region_Южный', 'mileage', 'wheel_drive_полный', 'brand_Россия', 'brand_Китай', 'brand_Южная Корея', 'brand_США', 'brand_Франция', 'transmission_AT', 'car_body_внедорожник', 'wheel_drive_задний', 'brand_Чехия', 'fuel_type_электро', 'car_body_хетчбэк', 'region_Приволжский', 'car_body_лифтбек', 'region_Северо-Западный', 'is_dealer_True', 'brand_Италия', 'fuel_type_газ', 'car_body_купе', 'region_Сибирский', 'brand_Украина', 'brand_Испания', 'car_body_микроавтобус'])"
   ]
  }
 ],
 "metadata": {
  "kernelspec": {
   "display_name": "venv",
   "language": "python",
   "name": "python3"
  },
  "language_info": {
   "codemirror_mode": {
    "name": "ipython",
    "version": 3
   },
   "file_extension": ".py",
   "mimetype": "text/x-python",
   "name": "python",
   "nbconvert_exporter": "python",
   "pygments_lexer": "ipython3",
   "version": "3.11.9"
  }
 },
 "nbformat": 4,
 "nbformat_minor": 2
}
