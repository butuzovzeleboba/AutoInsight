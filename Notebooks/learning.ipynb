{
 "cells": [
  {
   "cell_type": "code",
   "execution_count": null,
   "metadata": {},
   "outputs": [],
   "source": [
    "import mlflow\n",
    "import numpy as np\n",
    "import pandas as pd\n",
    "\n",
    "from catboost import CatBoostRegressor\n",
    "\n",
    "from keras.layers import Dense\n",
    "from keras.models import Sequential\n",
    "from sklearn.preprocessing import StandardScaler\n",
    "from sklearn.ensemble import RandomForestRegressor\n",
    "\n",
    "from sklearn.metrics import r2_score, mean_absolute_error, mean_absolute_percentage_error, root_mean_squared_error\n"
   ]
  },
  {
   "cell_type": "code",
   "execution_count": 16,
   "metadata": {},
   "outputs": [],
   "source": [
    "df_ml = pd.read_csv('../data/ml_data.csv')\n"
   ]
  },
  {
   "cell_type": "code",
   "execution_count": 17,
   "metadata": {},
   "outputs": [
    {
     "name": "stdout",
     "output_type": "stream",
     "text": [
      "<class 'pandas.core.frame.DataFrame'>\n",
      "RangeIndex: 40451 entries, 0 to 40450\n",
      "Data columns (total 13 columns):\n",
      " #   Column        Non-Null Count  Dtype  \n",
      "---  ------        --------------  -----  \n",
      " 0   price         40451 non-null  int64  \n",
      " 1   text          40416 non-null  object \n",
      " 2   is_dealer     40451 non-null  bool   \n",
      " 3   year          40451 non-null  int64  \n",
      " 4   engine        40428 non-null  float64\n",
      " 5   transmission  40451 non-null  object \n",
      " 6   mileage       40451 non-null  int64  \n",
      " 7   power_horse   40451 non-null  int64  \n",
      " 8   car_body      40451 non-null  object \n",
      " 9   wheel_drive   40451 non-null  object \n",
      " 10  fuel_type     40451 non-null  object \n",
      " 11  brand         40451 non-null  object \n",
      " 12  region        40451 non-null  object \n",
      "dtypes: bool(1), float64(1), int64(4), object(7)\n",
      "memory usage: 3.7+ MB\n"
     ]
    }
   ],
   "source": [
    "df_ml.info()"
   ]
  },
  {
   "cell_type": "code",
   "execution_count": 18,
   "metadata": {},
   "outputs": [
    {
     "data": {
      "text/plain": [
       "Index(['price', 'text', 'is_dealer', 'year', 'engine', 'transmission',\n",
       "       'mileage', 'power_horse', 'car_body', 'wheel_drive', 'fuel_type',\n",
       "       'brand', 'region'],\n",
       "      dtype='object')"
      ]
     },
     "execution_count": 18,
     "metadata": {},
     "output_type": "execute_result"
    }
   ],
   "source": [
    "df_ml.columns"
   ]
  },
  {
   "cell_type": "code",
   "execution_count": 19,
   "metadata": {},
   "outputs": [],
   "source": [
    "X = df_ml.drop(['price', 'text'], axis=1)\n",
    "y = df_ml['price']"
   ]
  },
  {
   "cell_type": "code",
   "execution_count": 20,
   "metadata": {},
   "outputs": [],
   "source": [
    "def eval_metrics(y_test, y_pred):\n",
    "    rmse = root_mean_squared_error(y_test, y_pred)\n",
    "    mae = mean_absolute_error(y_test, y_pred)\n",
    "    r2 = r2_score(y_test, y_pred)\n",
    "    mape = mean_absolute_percentage_error(y_test, y_pred)\n",
    "    return rmse, mae, mape, r2"
   ]
  },
  {
   "cell_type": "code",
   "execution_count": 22,
   "metadata": {},
   "outputs": [],
   "source": [
    "mlflow.set_tracking_uri('../mlruns')"
   ]
  },
  {
   "cell_type": "code",
   "execution_count": 23,
   "metadata": {},
   "outputs": [
    {
     "data": {
      "text/plain": [
       "Index(['price', 'text', 'is_dealer', 'year', 'engine', 'transmission',\n",
       "       'mileage', 'power_horse', 'car_body', 'wheel_drive', 'fuel_type',\n",
       "       'brand', 'region'],\n",
       "      dtype='object')"
      ]
     },
     "execution_count": 23,
     "metadata": {},
     "output_type": "execute_result"
    }
   ],
   "source": [
    "df_ml.columns"
   ]
  },
  {
   "cell_type": "markdown",
   "metadata": {},
   "source": [
    "Прогноз для текста"
   ]
  },
  {
   "cell_type": "code",
   "execution_count": 25,
   "metadata": {},
   "outputs": [],
   "source": [
    "loaded_model = mlflow.pyfunc.load_model('runs:/798e3dacc2794a3fa23cc7e9cc2ee33f/bert-finetuning')"
   ]
  },
  {
   "cell_type": "code",
   "execution_count": 26,
   "metadata": {},
   "outputs": [],
   "source": [
    "df_ml.columns = ['price', 'text', 'is_dealer', 'year', 'engine',\n",
    "       'transmission', 'mileage', 'power_horse', 'car_body', 'wheel_drive',\n",
    "       'fuel_type', 'brand', 'region']"
   ]
  },
  {
   "cell_type": "code",
   "execution_count": 33,
   "metadata": {},
   "outputs": [],
   "source": [
    "prob_preds = loaded_model.predict(list(df_ml['text'].astype(str).values))"
   ]
  },
  {
   "cell_type": "code",
   "execution_count": 39,
   "metadata": {},
   "outputs": [
    {
     "data": {
      "text/html": [
       "<div>\n",
       "<style scoped>\n",
       "    .dataframe tbody tr th:only-of-type {\n",
       "        vertical-align: middle;\n",
       "    }\n",
       "\n",
       "    .dataframe tbody tr th {\n",
       "        vertical-align: top;\n",
       "    }\n",
       "\n",
       "    .dataframe thead th {\n",
       "        text-align: right;\n",
       "    }\n",
       "</style>\n",
       "<table border=\"1\" class=\"dataframe\">\n",
       "  <thead>\n",
       "    <tr style=\"text-align: right;\">\n",
       "      <th></th>\n",
       "      <th>label</th>\n",
       "      <th>score</th>\n",
       "    </tr>\n",
       "  </thead>\n",
       "  <tbody>\n",
       "    <tr>\n",
       "      <th>0</th>\n",
       "      <td>LABEL_9</td>\n",
       "      <td>0.966847</td>\n",
       "    </tr>\n",
       "    <tr>\n",
       "      <th>1</th>\n",
       "      <td>LABEL_4</td>\n",
       "      <td>0.406988</td>\n",
       "    </tr>\n",
       "    <tr>\n",
       "      <th>2</th>\n",
       "      <td>LABEL_0</td>\n",
       "      <td>0.960189</td>\n",
       "    </tr>\n",
       "    <tr>\n",
       "      <th>3</th>\n",
       "      <td>LABEL_2</td>\n",
       "      <td>0.429774</td>\n",
       "    </tr>\n",
       "    <tr>\n",
       "      <th>4</th>\n",
       "      <td>LABEL_9</td>\n",
       "      <td>0.972477</td>\n",
       "    </tr>\n",
       "    <tr>\n",
       "      <th>...</th>\n",
       "      <td>...</td>\n",
       "      <td>...</td>\n",
       "    </tr>\n",
       "    <tr>\n",
       "      <th>40446</th>\n",
       "      <td>LABEL_8</td>\n",
       "      <td>0.285746</td>\n",
       "    </tr>\n",
       "    <tr>\n",
       "      <th>40447</th>\n",
       "      <td>LABEL_1</td>\n",
       "      <td>0.729497</td>\n",
       "    </tr>\n",
       "    <tr>\n",
       "      <th>40448</th>\n",
       "      <td>LABEL_5</td>\n",
       "      <td>0.387094</td>\n",
       "    </tr>\n",
       "    <tr>\n",
       "      <th>40449</th>\n",
       "      <td>LABEL_5</td>\n",
       "      <td>0.181845</td>\n",
       "    </tr>\n",
       "    <tr>\n",
       "      <th>40450</th>\n",
       "      <td>LABEL_5</td>\n",
       "      <td>0.345078</td>\n",
       "    </tr>\n",
       "  </tbody>\n",
       "</table>\n",
       "<p>40451 rows × 2 columns</p>\n",
       "</div>"
      ],
      "text/plain": [
       "         label     score\n",
       "0      LABEL_9  0.966847\n",
       "1      LABEL_4  0.406988\n",
       "2      LABEL_0  0.960189\n",
       "3      LABEL_2  0.429774\n",
       "4      LABEL_9  0.972477\n",
       "...        ...       ...\n",
       "40446  LABEL_8  0.285746\n",
       "40447  LABEL_1  0.729497\n",
       "40448  LABEL_5  0.387094\n",
       "40449  LABEL_5  0.181845\n",
       "40450  LABEL_5  0.345078\n",
       "\n",
       "[40451 rows x 2 columns]"
      ]
     },
     "execution_count": 39,
     "metadata": {},
     "output_type": "execute_result"
    }
   ],
   "source": [
    "prob_preds"
   ]
  },
  {
   "cell_type": "code",
   "execution_count": 55,
   "metadata": {},
   "outputs": [],
   "source": [
    "y_pred = prob_preds['label'].apply(lambda x: x[-1])"
   ]
  },
  {
   "cell_type": "code",
   "execution_count": 56,
   "metadata": {},
   "outputs": [
    {
     "data": {
      "text/plain": [
       "0        9\n",
       "1        4\n",
       "2        0\n",
       "3        2\n",
       "4        9\n",
       "        ..\n",
       "40446    8\n",
       "40447    1\n",
       "40448    5\n",
       "40449    5\n",
       "40450    5\n",
       "Name: label, Length: 40451, dtype: object"
      ]
     },
     "execution_count": 56,
     "metadata": {},
     "output_type": "execute_result"
    }
   ],
   "source": [
    "y_pred"
   ]
  },
  {
   "cell_type": "code",
   "execution_count": 57,
   "metadata": {},
   "outputs": [],
   "source": [
    "df_ml['price_class_pred'] = np.array(y_pred, dtype=int)\n"
   ]
  },
  {
   "cell_type": "code",
   "execution_count": 58,
   "metadata": {},
   "outputs": [
    {
     "data": {
      "text/html": [
       "<div>\n",
       "<style scoped>\n",
       "    .dataframe tbody tr th:only-of-type {\n",
       "        vertical-align: middle;\n",
       "    }\n",
       "\n",
       "    .dataframe tbody tr th {\n",
       "        vertical-align: top;\n",
       "    }\n",
       "\n",
       "    .dataframe thead th {\n",
       "        text-align: right;\n",
       "    }\n",
       "</style>\n",
       "<table border=\"1\" class=\"dataframe\">\n",
       "  <thead>\n",
       "    <tr style=\"text-align: right;\">\n",
       "      <th></th>\n",
       "      <th>price</th>\n",
       "      <th>is_dealer</th>\n",
       "      <th>year</th>\n",
       "      <th>engine</th>\n",
       "      <th>mileage</th>\n",
       "      <th>power_horse</th>\n",
       "      <th>price_class_pred</th>\n",
       "    </tr>\n",
       "  </thead>\n",
       "  <tbody>\n",
       "    <tr>\n",
       "      <th>price</th>\n",
       "      <td>1.000000</td>\n",
       "      <td>0.061096</td>\n",
       "      <td>0.546950</td>\n",
       "      <td>0.439743</td>\n",
       "      <td>-0.300054</td>\n",
       "      <td>0.642709</td>\n",
       "      <td>0.712790</td>\n",
       "    </tr>\n",
       "    <tr>\n",
       "      <th>is_dealer</th>\n",
       "      <td>0.061096</td>\n",
       "      <td>1.000000</td>\n",
       "      <td>0.074097</td>\n",
       "      <td>0.039316</td>\n",
       "      <td>-0.046497</td>\n",
       "      <td>0.071447</td>\n",
       "      <td>0.100309</td>\n",
       "    </tr>\n",
       "    <tr>\n",
       "      <th>year</th>\n",
       "      <td>0.546950</td>\n",
       "      <td>0.074097</td>\n",
       "      <td>1.000000</td>\n",
       "      <td>-0.025420</td>\n",
       "      <td>-0.446733</td>\n",
       "      <td>0.170798</td>\n",
       "      <td>0.565833</td>\n",
       "    </tr>\n",
       "    <tr>\n",
       "      <th>engine</th>\n",
       "      <td>0.439743</td>\n",
       "      <td>0.039316</td>\n",
       "      <td>-0.025420</td>\n",
       "      <td>1.000000</td>\n",
       "      <td>0.125205</td>\n",
       "      <td>0.826577</td>\n",
       "      <td>0.315861</td>\n",
       "    </tr>\n",
       "    <tr>\n",
       "      <th>mileage</th>\n",
       "      <td>-0.300054</td>\n",
       "      <td>-0.046497</td>\n",
       "      <td>-0.446733</td>\n",
       "      <td>0.125205</td>\n",
       "      <td>1.000000</td>\n",
       "      <td>0.026489</td>\n",
       "      <td>-0.250933</td>\n",
       "    </tr>\n",
       "    <tr>\n",
       "      <th>power_horse</th>\n",
       "      <td>0.642709</td>\n",
       "      <td>0.071447</td>\n",
       "      <td>0.170798</td>\n",
       "      <td>0.826577</td>\n",
       "      <td>0.026489</td>\n",
       "      <td>1.000000</td>\n",
       "      <td>0.514252</td>\n",
       "    </tr>\n",
       "    <tr>\n",
       "      <th>price_class_pred</th>\n",
       "      <td>0.712790</td>\n",
       "      <td>0.100309</td>\n",
       "      <td>0.565833</td>\n",
       "      <td>0.315861</td>\n",
       "      <td>-0.250933</td>\n",
       "      <td>0.514252</td>\n",
       "      <td>1.000000</td>\n",
       "    </tr>\n",
       "  </tbody>\n",
       "</table>\n",
       "</div>"
      ],
      "text/plain": [
       "                     price  is_dealer      year    engine   mileage  \\\n",
       "price             1.000000   0.061096  0.546950  0.439743 -0.300054   \n",
       "is_dealer         0.061096   1.000000  0.074097  0.039316 -0.046497   \n",
       "year              0.546950   0.074097  1.000000 -0.025420 -0.446733   \n",
       "engine            0.439743   0.039316 -0.025420  1.000000  0.125205   \n",
       "mileage          -0.300054  -0.046497 -0.446733  0.125205  1.000000   \n",
       "power_horse       0.642709   0.071447  0.170798  0.826577  0.026489   \n",
       "price_class_pred  0.712790   0.100309  0.565833  0.315861 -0.250933   \n",
       "\n",
       "                  power_horse  price_class_pred  \n",
       "price                0.642709          0.712790  \n",
       "is_dealer            0.071447          0.100309  \n",
       "year                 0.170798          0.565833  \n",
       "engine               0.826577          0.315861  \n",
       "mileage              0.026489         -0.250933  \n",
       "power_horse          1.000000          0.514252  \n",
       "price_class_pred     0.514252          1.000000  "
      ]
     },
     "execution_count": 58,
     "metadata": {},
     "output_type": "execute_result"
    }
   ],
   "source": [
    "df_ml.corr(numeric_only=True)"
   ]
  },
  {
   "cell_type": "code",
   "execution_count": 59,
   "metadata": {},
   "outputs": [],
   "source": [
    "X = df_ml.drop(['price', 'text'], axis=1)\n",
    "X_numeric = pd.get_dummies(X, columns=[\n",
    "        'is_dealer', 'transmission', 'car_body',\n",
    "        'wheel_drive','fuel_type', 'brand', \n",
    "        'region'\n",
    "        ])\n",
    "y = df_ml['price']\n",
    "X_train, X_test, y_train, y_test = train_test_split(X_numeric, y, test_size=0.25)\n"
   ]
  },
  {
   "cell_type": "code",
   "execution_count": 62,
   "metadata": {},
   "outputs": [],
   "source": [
    "X_train, X_test, y_train, y_test = train_test_split(X_test, y_test, test_size=0.25)"
   ]
  },
  {
   "cell_type": "code",
   "execution_count": null,
   "metadata": {},
   "outputs": [
    {
     "name": "stdout",
     "output_type": "stream",
     "text": [
      "0:\tlearn: 724265.4955762\ttotal: 43.9ms\tremaining: 1m 5s\n",
      "200:\tlearn: 142437.5420684\ttotal: 2.99s\tremaining: 19.3s\n",
      "400:\tlearn: 101605.8976257\ttotal: 6.16s\tremaining: 16.9s\n",
      "600:\tlearn: 79896.2328309\ttotal: 9.26s\tremaining: 13.8s\n",
      "800:\tlearn: 64966.6770703\ttotal: 12.7s\tremaining: 11.1s\n",
      "1000:\tlearn: 54708.0657079\ttotal: 16.3s\tremaining: 8.12s\n",
      "1200:\tlearn: 47384.3419287\ttotal: 19.6s\tremaining: 4.88s\n",
      "1400:\tlearn: 41509.5004242\ttotal: 22.9s\tremaining: 1.62s\n",
      "1499:\tlearn: 39214.2987607\ttotal: 24.6s\tremaining: 0us\n",
      "Catboost model\n",
      "  RMSE: 268731.78106582677\n",
      "  MAE: 140969.91529568276\n",
      "  R2: 0.8864446386754643\n",
      "  mape: 0.2259287363070237\n"
     ]
    },
    {
     "name": "stderr",
     "output_type": "stream",
     "text": [
      "d:\\pet\\pet-avito\\AutoInsight\\venv\\Lib\\site-packages\\mlflow\\types\\utils.py:407: UserWarning: Hint: Inferred schema contains integer column(s). Integer columns in Python cannot represent missing values. If your input data contains missing values at inference time, it will be encoded as floats and will cause a schema enforcement error. The best way to avoid this problem is to infer the model schema based on a realistic data sample (training dataset) that includes missing values. Alternatively, you can declare integer columns as doubles (float64) whenever these columns may have missing values. See `Handling Integers With Missing Values <https://www.mlflow.org/docs/latest/models.html#handling-integers-with-missing-values>`_ for more details.\n",
      "  warnings.warn(\n",
      "Downloading artifacts: 100%|██████████| 7/7 [00:00<00:00, 234.90it/s] \n"
     ]
    }
   ],
   "source": [
    "mlflow.set_experiment('With text 10 classes')\n",
    "\n",
    "with mlflow.start_run():\n",
    "\n",
    "    iterations = 1500\n",
    "    learning_rate=0.1\n",
    "    depth=10\n",
    "    cat_features=[\n",
    "        'is_dealer', 'transmission', 'car_body',\n",
    "        'wheel_drive','fuel_type', 'brand', \n",
    "        'region',\n",
    "        ]\n",
    "    verbose=200\n",
    "    random_state=42\n",
    "\n",
    "    model = CatBoostRegressor(iterations=iterations,\n",
    "                           learning_rate=learning_rate,\n",
    "                           depth=depth,\n",
    "                           verbose=verbose, \n",
    "                           random_state=random_state)\n",
    "    \n",
    "    mlflow.log_param('iterations', iterations)\n",
    "    mlflow.log_param('learning_rate', learning_rate)\n",
    "    mlflow.log_param('depth', depth)\n",
    "    mlflow.log_param('cat_features', ', '.join(cat_features))  # Преобразуем список в строку для логирования\n",
    "    mlflow.log_param('verbose', verbose)\n",
    "    mlflow.log_param('random_state', random_state)\n",
    "\n",
    "    model.fit(X_train, y_train)\n",
    "\n",
    "    y_pred = model.predict(X_test)\n",
    "\n",
    "    rmse, mae, mape, r2 = eval_metrics(y_test, y_pred)\n",
    "    \n",
    "    print('Catboost model')\n",
    "    print(f'  RMSE: {rmse}')\n",
    "    print(f'  MAE: {mae}')\n",
    "    print(f'  R2: {r2}')\n",
    "    print(f'  mape: {mape}')\n",
    "\n",
    "    mlflow.log_metric('rmse', rmse)\n",
    "    mlflow.log_metric('mae', mae)\n",
    "    mlflow.log_metric('r2', r2)\n",
    "    mlflow.log_metric('mape', mape)\n",
    "\n",
    "    # Пример входных данных для логирования\n",
    "    input_example = X_test.sample(5)\n",
    "\n",
    "    # Логирование модели с примером входных данных\n",
    "    mlflow.catboost.log_model(model, 'catboost_base', input_example=input_example)"
   ]
  },
  {
   "cell_type": "code",
   "execution_count": 65,
   "metadata": {},
   "outputs": [],
   "source": [
    "feature_selected = [\n",
    "    'power_horse', 'year', 'engine', 'brand_Япония',\n",
    "    'region_Южный', 'mileage', 'wheel_drive_полный',\n",
    "    'brand_Россия', 'brand_Китай', 'brand_Южная Корея',\n",
    "    'brand_США', 'brand_Франция', 'transmission_AT',\n",
    "    'car_body_внедорожник', 'wheel_drive_задний',\n",
    "    'brand_Чехия', 'fuel_type_электро', 'car_body_хетчбэк',\n",
    "    'region_Приволжский', 'car_body_лифтбек',\n",
    "    'region_Северо-Западный', 'is_dealer_True',\n",
    "    'brand_Италия', 'fuel_type_газ', 'car_body_купе',\n",
    "    'region_Сибирский', 'brand_Украина', 'brand_Испания',\n",
    "    'car_body_микроавтобус', 'price_class_pred'\n",
    "    ]"
   ]
  },
  {
   "cell_type": "code",
   "execution_count": 66,
   "metadata": {},
   "outputs": [],
   "source": [
    "X_train = X_train[feature_selected]\n",
    "X_test = X_test[feature_selected]"
   ]
  },
  {
   "cell_type": "code",
   "execution_count": null,
   "metadata": {},
   "outputs": [
    {
     "name": "stderr",
     "output_type": "stream",
     "text": [
      "2024/11/14 17:42:43 INFO mlflow.tracking.fluent: Experiment with name 'With text 10 classes, feature selected' does not exist. Creating a new experiment.\n"
     ]
    },
    {
     "name": "stdout",
     "output_type": "stream",
     "text": [
      "0:\tlearn: 723573.3583143\ttotal: 13ms\tremaining: 19.5s\n",
      "200:\tlearn: 149203.5315271\ttotal: 2.94s\tremaining: 19s\n",
      "400:\tlearn: 109738.9473087\ttotal: 6.18s\tremaining: 17s\n",
      "600:\tlearn: 89451.4526259\ttotal: 9.2s\tremaining: 13.8s\n",
      "800:\tlearn: 75886.2087722\ttotal: 12.4s\tremaining: 10.8s\n",
      "1000:\tlearn: 65326.5838177\ttotal: 15.6s\tremaining: 7.76s\n",
      "1200:\tlearn: 57812.1743187\ttotal: 18.7s\tremaining: 4.65s\n",
      "1400:\tlearn: 51943.5750450\ttotal: 22s\tremaining: 1.55s\n",
      "1499:\tlearn: 49541.6363720\ttotal: 23.7s\tremaining: 0us\n",
      "Catboost model\n",
      "  RMSE: 276301.4864292953\n",
      "  MAE: 143242.2004885609\n",
      "  R2: 0.8799572253340813\n",
      "  mape: 0.22539072027295326\n"
     ]
    },
    {
     "name": "stderr",
     "output_type": "stream",
     "text": [
      "d:\\pet\\pet-avito\\AutoInsight\\venv\\Lib\\site-packages\\mlflow\\types\\utils.py:407: UserWarning: Hint: Inferred schema contains integer column(s). Integer columns in Python cannot represent missing values. If your input data contains missing values at inference time, it will be encoded as floats and will cause a schema enforcement error. The best way to avoid this problem is to infer the model schema based on a realistic data sample (training dataset) that includes missing values. Alternatively, you can declare integer columns as doubles (float64) whenever these columns may have missing values. See `Handling Integers With Missing Values <https://www.mlflow.org/docs/latest/models.html#handling-integers-with-missing-values>`_ for more details.\n",
      "  warnings.warn(\n",
      "Downloading artifacts: 100%|██████████| 7/7 [00:00<00:00, 784.95it/s] \n"
     ]
    }
   ],
   "source": [
    "mlflow.set_experiment('With text 10 classes, feature selected')\n",
    "\n",
    "with mlflow.start_run():\n",
    "\n",
    "    iterations = 1500\n",
    "    learning_rate=0.1\n",
    "    depth=10\n",
    "    cat_features=[\n",
    "        'is_dealer', 'transmission', 'car_body',\n",
    "        'wheel_drive','fuel_type', 'brand', \n",
    "        'region',\n",
    "        ]\n",
    "    verbose=200\n",
    "    random_state=42\n",
    "\n",
    "    model = CatBoostRegressor(iterations=iterations,\n",
    "                           learning_rate=learning_rate,\n",
    "                           depth=depth,\n",
    "                           verbose=verbose, \n",
    "                           random_state=random_state)\n",
    "    \n",
    "    mlflow.log_param('iterations', iterations)\n",
    "    mlflow.log_param('learning_rate', learning_rate)\n",
    "    mlflow.log_param('depth', depth)\n",
    "    mlflow.log_param('cat_features', ', '.join(cat_features))  # Преобразуем список в строку для логирования\n",
    "    mlflow.log_param('verbose', verbose)\n",
    "    mlflow.log_param('random_state', random_state)\n",
    "\n",
    "    model.fit(X_train, y_train)\n",
    "\n",
    "    y_pred = model.predict(X_test)\n",
    "\n",
    "    rmse, mae, mape, r2 = eval_metrics(y_test, y_pred)\n",
    "    \n",
    "    print('Catboost model')\n",
    "    print(f'  RMSE: {rmse}')\n",
    "    print(f'  MAE: {mae}')\n",
    "    print(f'  R2: {r2}')\n",
    "    print(f'  mape: {mape}')\n",
    "\n",
    "    mlflow.log_metric('rmse', rmse)\n",
    "    mlflow.log_metric('mae', mae)\n",
    "    mlflow.log_metric('r2', r2)\n",
    "    mlflow.log_metric('mape', mape)\n",
    "\n",
    "    # Пример входных данных для логирования\n",
    "    input_example = X_test.sample(5)\n",
    "\n",
    "    # Логирование модели с примером входных данных\n",
    "    mlflow.catboost.log_model(model, 'catboost_base', input_example=input_example)"
   ]
  },
  {
   "cell_type": "code",
   "execution_count": 70,
   "metadata": {},
   "outputs": [
    {
     "data": {
      "text/plain": [
       "(7584, 30)"
      ]
     },
     "execution_count": 70,
     "metadata": {},
     "output_type": "execute_result"
    }
   ],
   "source": [
    "X_train.shape"
   ]
  },
  {
   "cell_type": "code",
   "execution_count": null,
   "metadata": {},
   "outputs": [
    {
     "name": "stdout",
     "output_type": "stream",
     "text": [
      "Random Forest model\n",
      "  RMSE: 284224.17554280773\n",
      "  MAE: 153550.1335641417\n",
      "  R2: 0.872974295192652\n",
      "  mape: 0.23699669444147342\n"
     ]
    },
    {
     "name": "stderr",
     "output_type": "stream",
     "text": [
      "d:\\pet\\pet-avito\\AutoInsight\\venv\\Lib\\site-packages\\mlflow\\types\\utils.py:407: UserWarning: Hint: Inferred schema contains integer column(s). Integer columns in Python cannot represent missing values. If your input data contains missing values at inference time, it will be encoded as floats and will cause a schema enforcement error. The best way to avoid this problem is to infer the model schema based on a realistic data sample (training dataset) that includes missing values. Alternatively, you can declare integer columns as doubles (float64) whenever these columns may have missing values. See `Handling Integers With Missing Values <https://www.mlflow.org/docs/latest/models.html#handling-integers-with-missing-values>`_ for more details.\n",
      "  warnings.warn(\n",
      "Downloading artifacts: 100%|██████████| 7/7 [00:00<00:00, 12.36it/s] \n"
     ]
    }
   ],
   "source": [
    "mlflow.set_experiment('With text 10 classes, feature selected')\n",
    "\n",
    "with mlflow.start_run():\n",
    "\n",
    "    model_params = dict()\n",
    "\n",
    "    model_params['n_estimators'] = 200\n",
    "    model_params['max_depth'] = 20\n",
    "    model_params['max_features'] = 30\n",
    "    model_params['random_state'] = 42\n",
    "\n",
    "    rf = RandomForestRegressor(**model_params)\n",
    "\n",
    "    mlflow.log_params(model_params)\n",
    "\n",
    "    rf.fit(X_train, y_train)\n",
    "\n",
    "    y_pred = rf.predict(X_test)\n",
    "\n",
    "    rmse, mae, mape, r2 = eval_metrics(y_test, y_pred)\n",
    "    \n",
    "    print('Random Forest model')\n",
    "    print(f'  RMSE: {rmse}')\n",
    "    print(f'  MAE: {mae}')\n",
    "    print(f'  R2: {r2}')\n",
    "    print(f'  mape: {mape}')\n",
    "\n",
    "    mlflow.log_metric('rmse', rmse)\n",
    "    mlflow.log_metric('mae', mae)\n",
    "    mlflow.log_metric('r2', r2)\n",
    "    mlflow.log_metric('mape', mape)\n",
    "\n",
    "    # Пример входных данных для логирования\n",
    "    input_example = X_test.sample(5) \n",
    "\n",
    "    # Логирование модели с примером входных данных\n",
    "    mlflow.sklearn.log_model(rf, 'Random Forest Regressor', input_example=input_example)"
   ]
  },
  {
   "cell_type": "code",
   "execution_count": null,
   "metadata": {},
   "outputs": [],
   "source": [
    "mlflow.set_experiment('All without text')\n",
    "\n",
    "with mlflow.start_run():\n",
    "    # Параметры модели\n",
    "    model_params = {\n",
    "        'input_dim': X_train.shape[1],\n",
    "        'hidden_units': 64,\n",
    "        'epochs': 100,\n",
    "        'batch_size': 32\n",
    "    }\n",
    "    \n",
    "    mlflow.log_params(model_params)\n",
    "\n",
    "    # Стандартизация данных\n",
    "    scaler = StandardScaler()\n",
    "    X_train_scaled = scaler.fit_transform(X_train)\n",
    "    X_test_scaled = scaler.transform(X_test)\n",
    "\n",
    "    # Создание модели нейронной сети\n",
    "    model = Sequential()\n",
    "    model.add(Dense(model_params['hidden_units'], input_dim=model_params['input_dim'], activation='relu'))\n",
    "    model.add(Dense(1))\n",
    "\n",
    "    model.compile(optimizer='adam', loss='mean_squared_error')\n",
    "\n",
    "    # Обучение модели\n",
    "    model.fit(X_train_scaled, y_train, epochs=model_params['epochs'], batch_size=model_params['batch_size'], verbose=0)\n",
    "\n",
    "    # Прогнозирование\n",
    "    y_pred = model.predict(X_test_scaled)\n",
    "\n",
    "    # Оценка метрик\n",
    "    rmse, mae, mape, r2 = eval_metrics(y_test, y_pred)\n",
    "    \n",
    "    print('Neural Network model')\n",
    "    print(f'  RMSE: {rmse}')\n",
    "    print(f'  MAE: {mae}')\n",
    "    print(f'  R2: {r2}')\n",
    "    print(f'  MAPE: {mape}')\n",
    "\n",
    "    mlflow.log_metric('rmse', rmse)\n",
    "    mlflow.log_metric('mae', mae)\n",
    "    mlflow.log_metric('r2', r2)\n",
    "    mlflow.log_metric('mape', mape)\n",
    "\n",
    "    # Логирование модели без примера входных данных\n",
    "    mlflow.keras.log_model(model, 'Neural Network Regressor')"
   ]
  }
 ],
 "metadata": {
  "kernelspec": {
   "display_name": "venv",
   "language": "python",
   "name": "python3"
  },
  "language_info": {
   "codemirror_mode": {
    "name": "ipython",
    "version": 3
   },
   "file_extension": ".py",
   "mimetype": "text/x-python",
   "name": "python",
   "nbconvert_exporter": "python",
   "pygments_lexer": "ipython3",
   "version": "3.11.9"
  }
 },
 "nbformat": 4,
 "nbformat_minor": 2
}
