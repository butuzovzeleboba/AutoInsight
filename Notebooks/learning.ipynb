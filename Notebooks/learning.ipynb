{
 "cells": [
  {
   "cell_type": "code",
   "execution_count": 35,
   "metadata": {},
   "outputs": [],
   "source": [
    "import mlflow\n",
    "import numpy as np\n",
    "import pandas as pd\n",
    "\n",
    "from catboost import CatBoostRegressor\n",
    "from sklearn.linear_model import LinearRegression\n",
    "from keras.layers import Dense\n",
    "from keras.models import Sequential\n",
    "from sklearn.preprocessing import StandardScaler\n",
    "from sklearn.ensemble import RandomForestRegressor\n",
    "from sklearn.model_selection import train_test_split\n",
    "\n",
    "from sklearn.metrics import r2_score, mean_absolute_error, mean_absolute_percentage_error, root_mean_squared_error\n"
   ]
  },
  {
   "cell_type": "code",
   "execution_count": null,
   "metadata": {},
   "outputs": [],
   "source": [
    "df_train = pd.read_csv('../data/train_data.csv')\n",
    "df_test = pd.read_csv('../data/test_data.csv')\n",
    "df_full = pd.read_csv('../data/ml_data.csv')"
   ]
  },
  {
   "cell_type": "code",
   "execution_count": 40,
   "metadata": {},
   "outputs": [
    {
     "data": {
      "text/plain": [
       "(32555, 51)"
      ]
     },
     "execution_count": 40,
     "metadata": {},
     "output_type": "execute_result"
    }
   ],
   "source": [
    "df_train.shape"
   ]
  },
  {
   "cell_type": "code",
   "execution_count": 44,
   "metadata": {},
   "outputs": [],
   "source": [
    "feature_selected = [\n",
    "    'price_class_pred',\n",
    "    'power_horse',\n",
    "    'year',\n",
    "    'engine',\n",
    "    'brand_Россия',\n",
    "    'region_Южный',\n",
    "    'brand_Япония',\n",
    "    'mileage',\n",
    "    'brand_Китай',\n",
    "    'brand_Южная Корея',\n",
    "    'wheel_drive_полный',\n",
    "    'brand_США',\n",
    "    'wheel_drive_передний'\n",
    "]"
   ]
  },
  {
   "cell_type": "code",
   "execution_count": null,
   "metadata": {},
   "outputs": [],
   "source": [
    "X_train = df_train.drop(['price', 'text'], axis=1)[feature_selected]\n",
    "y_train = df_train['price']\n",
    "\n",
    "X_test = df_test.drop(['price', 'text'], axis=1)[feature_selected]\n",
    "y_test = df_test['price']"
   ]
  },
  {
   "cell_type": "code",
   "execution_count": 50,
   "metadata": {},
   "outputs": [],
   "source": [
    "def eval_metrics(y_test, y_pred):\n",
    "    rmse = root_mean_squared_error(y_test, y_pred)\n",
    "    mae = mean_absolute_error(y_test, y_pred)\n",
    "    r2 = r2_score(y_test, y_pred)\n",
    "    mape = mean_absolute_percentage_error(y_test, y_pred)\n",
    "    return rmse, mae, mape, r2"
   ]
  },
  {
   "cell_type": "code",
   "execution_count": 32,
   "metadata": {},
   "outputs": [],
   "source": [
    "params = {\n",
    "    'iterations': 1862,\n",
    "    'learning_rate': 0.07126926225582741,\n",
    "    'depth': 8,\n",
    "    'subsample': 0.9534581504986257,\n",
    "    'colsample_bylevel': 0.9955728241823156,\n",
    "    'min_data_in_leaf': 4,  \n",
    "}"
   ]
  },
  {
   "cell_type": "code",
   "execution_count": null,
   "metadata": {},
   "outputs": [
    {
     "name": "stdout",
     "output_type": "stream",
     "text": [
      "Catboost model\n",
      "  RMSE: 524042.4280352981\n",
      "  MAE: 262543.74683669204\n",
      "  R2: 0.660628721740682\n",
      "  mape: 0.566329906230659\n"
     ]
    },
    {
     "name": "stderr",
     "output_type": "stream",
     "text": [
      "d:\\pet\\pet-avito\\AutoInsight\\venv\\Lib\\site-packages\\mlflow\\types\\utils.py:407: UserWarning: Hint: Inferred schema contains integer column(s). Integer columns in Python cannot represent missing values. If your input data contains missing values at inference time, it will be encoded as floats and will cause a schema enforcement error. The best way to avoid this problem is to infer the model schema based on a realistic data sample (training dataset) that includes missing values. Alternatively, you can declare integer columns as doubles (float64) whenever these columns may have missing values. See `Handling Integers With Missing Values <https://www.mlflow.org/docs/latest/models.html#handling-integers-with-missing-values>`_ for more details.\n",
      "  warnings.warn(\n",
      "d:\\pet\\pet-avito\\AutoInsight\\venv\\Lib\\site-packages\\tqdm\\auto.py:21: TqdmWarning: IProgress not found. Please update jupyter and ipywidgets. See https://ipywidgets.readthedocs.io/en/stable/user_install.html\n",
      "  from .autonotebook import tqdm as notebook_tqdm\n",
      "Downloading artifacts: 100%|██████████| 7/7 [00:00<?, ?it/s]\n"
     ]
    }
   ],
   "source": [
    "mlflow.set_tracking_uri('../mlruns')\n",
    "\n",
    "mlflow.set_experiment('With text 10 classes feature selected, params tuned')\n",
    "\n",
    "with mlflow.start_run():\n",
    "\n",
    "\n",
    "    model = CatBoostRegressor(**params, verbose=500)\n",
    "    \n",
    "    mlflow.log_params(params)\n",
    "\n",
    "    model.fit(X_train, y_train)\n",
    "\n",
    "    y_pred = model.predict(X_test)\n",
    "\n",
    "    rmse, mae, mape, r2 = eval_metrics(y_test, y_pred)\n",
    "    \n",
    "    print('Catboost model')\n",
    "    print(f'  RMSE: {rmse}')\n",
    "    print(f'  MAE: {mae}')\n",
    "    print(f'  R2: {r2}')\n",
    "    print(f'  mape: {mape}')\n",
    "\n",
    "    mlflow.log_metric('rmse', rmse)\n",
    "    mlflow.log_metric('mae', mae)\n",
    "    mlflow.log_metric('r2', r2)\n",
    "    mlflow.log_metric('mape', mape)\n",
    "\n",
    "    # Пример входных данных для логирования\n",
    "    input_example = X_test.sample(5)\n",
    "\n",
    "    # Логирование модели с примером входных данных\n",
    "    mlflow.catboost.log_model(model, 'catboost_base', input_example=input_example)"
   ]
  }
 ],
 "metadata": {
  "kernelspec": {
   "display_name": "venv",
   "language": "python",
   "name": "python3"
  },
  "language_info": {
   "codemirror_mode": {
    "name": "ipython",
    "version": 3
   },
   "file_extension": ".py",
   "mimetype": "text/x-python",
   "name": "python",
   "nbconvert_exporter": "python",
   "pygments_lexer": "ipython3",
   "version": "3.11.9"
  }
 },
 "nbformat": 4,
 "nbformat_minor": 2
}
